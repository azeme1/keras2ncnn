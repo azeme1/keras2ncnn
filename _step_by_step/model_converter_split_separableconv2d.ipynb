{
 "cells": [
  {
   "cell_type": "code",
   "execution_count": null,
   "metadata": {},
   "outputs": [],
   "source": [
    "import os\n",
    "os.environ[\"CUDA_DEVICE_ORDER\"] = \"PCI_BUS_ID\"\n",
    "os.environ[\"CUDA_VISIBLE_DEVICES\"] = \"-1\""
   ]
  },
  {
   "cell_type": "code",
   "execution_count": null,
   "metadata": {},
   "outputs": [],
   "source": [
    "from copy import deepcopy\n",
    "import imageio\n",
    "import numpy as np\n",
    "import cv2\n",
    "import matplotlib.pyplot as plt\n",
    "import keras\n",
    "import numpy as np\n",
    "import tensorflow as tf\n",
    "import tensorflow.keras.backend as K\n",
    "from tqdm import tqdm\n",
    "from tensorflow.keras import Input\n",
    "from tensorflow.keras.models import Model\n",
    "from tensorflow.keras.layers import Layer, InputSpec, DepthwiseConv2D, BatchNormalization, Activation, Conv2D, concatenate, Conv2DTranspose\n",
    "from tensorflow.keras import backend as K\n",
    "from tensorflow.keras.backend import int_shape, permute_dimensions\n",
    "from collections import OrderedDict\n",
    "from tensorflow.keras.models import Model, load_model\n",
    "from tensorflow.keras.layers import Input, SeparableConv2D"
   ]
  },
  {
   "cell_type": "code",
   "execution_count": null,
   "metadata": {},
   "outputs": [],
   "source": [
    "Conv2D_config_template = {\n",
    "    'name': '_node_name',\n",
    "    'class_name': 'Conv2D',\n",
    "    'config': {'name': '_node_name',\n",
    "    'trainable': True,\n",
    "    'dtype': 'float32',\n",
    "    'filters': 1,\n",
    "    'kernel_size': (1, 1),\n",
    "    'strides': (1, 1),\n",
    "    'padding': 'same',\n",
    "    'data_format': 'channels_last',\n",
    "    'dilation_rate': (1, 1),\n",
    "    'activation': 'linear',\n",
    "    'use_bias': True,\n",
    "    'kernel_initializer': {'class_name': 'GlorotUniform',\n",
    "     'config': {'seed': None}},\n",
    "    'bias_initializer': {'class_name': 'Zeros', 'config': {}},\n",
    "    'kernel_regularizer': None,\n",
    "    'bias_regularizer': None,\n",
    "    'activity_regularizer': None,\n",
    "    'kernel_constraint': None,\n",
    "    'bias_constraint': None},\n",
    "   'name': '_node_name',\n",
    "   'inbound_nodes': [[['_in_node_name', 0, 0, {}]]]}\n",
    "\n",
    "DepthwiseConv2D_config_template = {'name': '_node_name',\n",
    " 'class_name': 'DepthwiseConv2D',\n",
    " 'config': {'name': '_node_name',\n",
    "  'trainable': True,\n",
    "  'dtype': 'float32',\n",
    "  'kernel_size': (3, 3),\n",
    "  'strides': (1, 1),\n",
    "  'padding': 'same',\n",
    "  'data_format': 'channels_last',\n",
    "  'dilation_rate': (1, 1),\n",
    "  'activation': 'linear',\n",
    "  'use_bias': False,\n",
    "  'bias_initializer': {'class_name': 'Zeros', 'config': {'dtype': 'float32'}},\n",
    "  'bias_regularizer': None,\n",
    "  'activity_regularizer': None,\n",
    "  'bias_constraint': None,\n",
    "  'depth_multiplier': 1,\n",
    "  'depthwise_initializer': {'class_name': 'GlorotUniform',\n",
    "   'config': {'seed': None, 'dtype': 'float32'}},\n",
    "  'depthwise_regularizer': None,\n",
    "  'depthwise_constraint': None},\n",
    " 'inbound_nodes': [[['_in_node_name', 0, 0, {}]]]}"
   ]
  },
  {
   "cell_type": "code",
   "execution_count": null,
   "metadata": {},
   "outputs": [],
   "source": [
    "placeholder = Input((32, 32, 3), name='data')\n",
    "x = SeparableConv2D(4, (5,5), padding='same', name='src_layer')(placeholder)\n",
    "src_model = Model(placeholder, x, name='src_model')\n",
    "\n",
    "placeholder = Input((32, 32, 3), name='data')\n",
    "x = DepthwiseConv2D((5,5), padding='same', name='dst_1', use_bias=False)(placeholder)\n",
    "x = Conv2D(4, (1, 1), padding='same', name='dst_2')(x)\n",
    "dst_model = Model(placeholder, x, name='dst_model')"
   ]
  },
  {
   "cell_type": "code",
   "execution_count": null,
   "metadata": {},
   "outputs": [],
   "source": [
    "w_1, w_2, b = src_model.get_layer('src_layer').get_weights()\n",
    "dst_model.get_layer('dst_1').set_weights([w_1])\n",
    "dst_model.get_layer('dst_2').set_weights([w_2, b])"
   ]
  },
  {
   "cell_type": "code",
   "execution_count": null,
   "metadata": {},
   "outputs": [],
   "source": [
    "x_in = np.random.uniform(size=(1, 32, 32, 3))\n",
    "print(np.abs(dst_model.predict(x_in) - src_model.predict(x_in)).sum())"
   ]
  },
  {
   "cell_type": "code",
   "execution_count": null,
   "metadata": {},
   "outputs": [],
   "source": []
  },
  {
   "cell_type": "code",
   "execution_count": null,
   "metadata": {},
   "outputs": [],
   "source": [
    "def transfer_SeparableConv2D_DepthwiseConv2D(src_model, dst_model, transfer_rule):\n",
    "    _weigths = src_model.get_layer(transfer_rule['src']).get_weights()\n",
    "    dst_model.get_layer(transfer_rule['dst']).set_weights([_weigths[0]])\n",
    "    \n",
    "def transfer_SeparableConv2D_Conv2D(src_model, dst_model, transfer_rule):\n",
    "    _weigths = src_model.get_layer(transfer_rule['src']).get_weights()\n",
    "#     if len(_weigths) == 3:\n",
    "#         w_1, w_2, b = _weigths\n",
    "#     assert len(_weigths) == 3, 'Check use_bias==False rule'\n",
    "    dst_model.get_layer(transfer_rule['dst']).set_weights(_weigths[1:])\n",
    "\n",
    "# detect correction\n",
    "def detect_transform_SeparableConv2D(keras_config):\n",
    "    index_list = []\n",
    "    for i, item in enumerate(keras_config['layers']):\n",
    "        if item['class_name'] == 'SeparableConv2D':\n",
    "            index_list.append(i)\n",
    "    return index_list\n",
    "\n",
    "def apply_transform_SeparableConv2D(keras_config):\n",
    "    index_list = detect_transform_SeparableConv2D(keras_config)\n",
    "    weight_transfer_rule_dict = {}\n",
    "    while len(index_list) > 0:\n",
    "        i = index_list[0]\n",
    "        r_layer_config = keras_config['layers'].pop(i)\n",
    "        # Transfer DepthWise\n",
    "        i_layer_config = deepcopy(DepthwiseConv2D_config_template)\n",
    "        #TODO :: check unique name\n",
    "        prev_name = i_layer_config['name'] = r_layer_config['name'] + f'_dwc_{i}'\n",
    "        for key in DepthwiseConv2D_config_template['config'].keys():\n",
    "            if key in r_layer_config['config']:\n",
    "                i_layer_config['config'][key] = r_layer_config['config'][key]\n",
    "        i_layer_config['inbound_nodes'] = r_layer_config['inbound_nodes']\n",
    "        i_layer_config['config']['name'] = i_layer_config['name']\n",
    "        i_layer_config['config']['use_bias'] = False\n",
    "        keras_config['layers'].insert(i, i_layer_config)\n",
    "        weight_transfer_rule_dict[i_layer_config['name']] = {'transfer_call': transfer_SeparableConv2D_DepthwiseConv2D,\n",
    "                                                            'src': r_layer_config['name'], 'dst':i_layer_config['name']}\n",
    "        \n",
    "        \n",
    "        # Transfer Conv\n",
    "        i_layer_config = deepcopy(Conv2D_config_template)\n",
    "        for key in set(Conv2D_config_template['config'].keys()) - set(['kernel_size', \n",
    "                                                                       'strides', 'dilation_rate']):\n",
    "            if key in r_layer_config['config']:\n",
    "                i_layer_config['config'][key] = r_layer_config['config'][key]\n",
    "        i_layer_config['name'] = r_layer_config['name']\n",
    "        i_layer_config['inbound_nodes'] = [[[prev_name, 0, 0, {}]]]\n",
    "        \n",
    "        keras_config['layers'].insert(i+1, i_layer_config)\n",
    "        weight_transfer_rule_dict[i_layer_config['name']] = {'transfer_call': transfer_SeparableConv2D_Conv2D,\n",
    "                                                    'src': r_layer_config['name'], 'dst':i_layer_config['name']}\n",
    "        \n",
    "        index_list = detect_transform_SeparableConv2D(keras_config)\n",
    "    return keras_config, weight_transfer_rule_dict"
   ]
  },
  {
   "cell_type": "code",
   "execution_count": null,
   "metadata": {},
   "outputs": [],
   "source": [
    "def transfer_weights(src_model, dst_model, weight_transfer_rule_dict):\n",
    "    for dst_layer in tqdm(dst_model.layers):\n",
    "        if dst_layer.name in weight_transfer_rule_dict:\n",
    "            transfer_rule = weight_transfer_rule_dict[dst_layer.name]\n",
    "            func = transfer_rule['transfer_call']\n",
    "            func(src_model, dst_model, transfer_rule)\n",
    "        else:\n",
    "            src_model.get_layer(dst_layer.name).set_weights(dst_layer.get_weights())"
   ]
  },
  {
   "cell_type": "code",
   "execution_count": null,
   "metadata": {},
   "outputs": [],
   "source": [
    "dst_model_config, weight_transfer_rule_dict = apply_transform_SeparableConv2D(src_model.get_config())"
   ]
  },
  {
   "cell_type": "code",
   "execution_count": null,
   "metadata": {},
   "outputs": [],
   "source": [
    "dst_model = Model.from_config(dst_model_config)"
   ]
  },
  {
   "cell_type": "code",
   "execution_count": null,
   "metadata": {},
   "outputs": [],
   "source": [
    "transfer_weights(src_model, dst_model, weight_transfer_rule_dict)"
   ]
  },
  {
   "cell_type": "code",
   "execution_count": null,
   "metadata": {},
   "outputs": [],
   "source": [
    "x_in = np.random.uniform(size=(1,) + _dst_model.input_shape[1:])\n",
    "print(np.abs(dst_model.predict(x_in) - src_model.predict(x_in)).sum())"
   ]
  }
 ],
 "metadata": {
  "kernelspec": {
   "display_name": "Python 3",
   "language": "python",
   "name": "python3"
  },
  "language_info": {
   "codemirror_mode": {
    "name": "ipython",
    "version": 3
   },
   "file_extension": ".py",
   "mimetype": "text/x-python",
   "name": "python",
   "nbconvert_exporter": "python",
   "pygments_lexer": "ipython3",
   "version": "3.7.6"
  }
 },
 "nbformat": 4,
 "nbformat_minor": 4
}
