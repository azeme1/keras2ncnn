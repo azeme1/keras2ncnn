{
 "cells": [
  {
   "cell_type": "code",
   "execution_count": null,
   "metadata": {},
   "outputs": [],
   "source": [
    "import sys\n",
    "sys.path.append('../../../research_git/yolov4-tiny-keras/')\n",
    "import os"
   ]
  },
  {
   "cell_type": "code",
   "execution_count": null,
   "metadata": {},
   "outputs": [],
   "source": [
    "from nets.yolo4_tiny import yolo_body, yolo_head\n",
    "from nets.loss import yolo_loss"
   ]
  },
  {
   "cell_type": "code",
   "execution_count": null,
   "metadata": {},
   "outputs": [],
   "source": [
    "from keras.utils.io_utils import h5dict\n",
    "from keras.models import load_model, Model\n",
    "from keras.layers import InputLayer, Input\n",
    "import json"
   ]
  },
  {
   "cell_type": "code",
   "execution_count": null,
   "metadata": {},
   "outputs": [],
   "source": [
    "filepath = '../model_zoo/detection/yolo4/model_000/tf_a85.h5'\n",
    "f = h5dict(filepath, 'r')"
   ]
  },
  {
   "cell_type": "code",
   "execution_count": null,
   "metadata": {},
   "outputs": [],
   "source": [
    "model_config = f['model_config']\n",
    "model_config = json.loads(model_config.decode('utf-8'))"
   ]
  },
  {
   "cell_type": "code",
   "execution_count": null,
   "metadata": {},
   "outputs": [],
   "source": [
    "#Cut loss layer\n",
    "model_config['config']['layers'][0]['config']['batch_input_shape'] = [None, 416, 416, 3]\n",
    "model_config['config']['input_layers'] = model_config['config']['input_layers'][:1]\n",
    "model_config['config']['output_layers'] = [_i[:3] for _i in model_config['config']['layers'][-1]['inbound_nodes'][0]][:2]\n",
    "model_config['config']['layers'].pop(-1)\n",
    "print(\"\")"
   ]
  },
  {
   "cell_type": "code",
   "execution_count": null,
   "metadata": {},
   "outputs": [],
   "source": [
    "fixed_model = Model.from_config(model_config['config'])"
   ]
  },
  {
   "cell_type": "code",
   "execution_count": null,
   "metadata": {},
   "outputs": [],
   "source": [
    "fixed_model.load_weights(filepath)"
   ]
  },
  {
   "cell_type": "code",
   "execution_count": null,
   "metadata": {},
   "outputs": [],
   "source": [
    "out_file_path = '../model_zoo/detection/yolo4/model_000/tf_a85_fixed.h5'\n",
    "fixed_model.save(out_file_path)"
   ]
  },
  {
   "cell_type": "code",
   "execution_count": null,
   "metadata": {},
   "outputs": [],
   "source": []
  }
 ],
 "metadata": {
  "kernelspec": {
   "display_name": "Python 3",
   "language": "python",
   "name": "python3"
  },
  "language_info": {
   "codemirror_mode": {
    "name": "ipython",
    "version": 3
   },
   "file_extension": ".py",
   "mimetype": "text/x-python",
   "name": "python",
   "nbconvert_exporter": "python",
   "pygments_lexer": "ipython3",
   "version": "3.7.6"
  }
 },
 "nbformat": 4,
 "nbformat_minor": 4
}
